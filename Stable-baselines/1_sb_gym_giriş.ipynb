{
  "nbformat": 4,
  "nbformat_minor": 0,
  "metadata": {
    "colab": {
      "name": "1_sb_gym_giriş.ipynb",
      "provenance": [],
      "collapsed_sections": []
    },
    "kernelspec": {
      "name": "python3",
      "display_name": "Python 3"
    },
    "accelerator": "GPU"
  },
  "cells": [
    {
      "cell_type": "markdown",
      "metadata": {
        "id": "view-in-github"
      },
      "source": [
        "<a href=\"https://colab.research.google.com/github/araffin/rl-tutorial-jnrr19/blob/sb3/1_getting_started.ipynb\" target=\"_parent\"><img src=\"https://colab.research.google.com/assets/colab-badge.svg\" alt=\"Open In Colab\"/></a>"
      ]
    },
    {
      "cell_type": "markdown",
      "metadata": {
        "id": "hyyN-2qyK_T2"
      },
      "source": [
        "# Stable Baselines3 Giriş\n",
        "\n",
        "\n",
        "Bu not defterinde, stable baselines kitaplığını kullanmanın temellerini öğreneceksiniz: bir RL modelinin nasıl oluşturulacağını, nasıl eğitileceğini ve değerlendirileceğini göreceğiz. \n",
        "\n",
        "\n",
        "```\n",
        "pip install stable-baselines3[extra]\n",
        "```"
      ]
    },
    {
      "cell_type": "code",
      "metadata": {
        "id": "gWskDE2c9WoN",
        "colab": {
          "base_uri": "https://localhost:8080/"
        },
        "outputId": "c0b8aed2-216a-4392-cc9a-3526eb351e5e"
      },
      "source": [
        "!apt-get install ffmpeg freeglut3-dev xvfb  # For visualization\n",
        "!pip install stable-baselines3[extra]"
      ],
      "execution_count": 17,
      "outputs": [
        {
          "output_type": "stream",
          "name": "stdout",
          "text": [
            "Reading package lists... Done\n",
            "Building dependency tree       \n",
            "Reading state information... Done\n",
            "freeglut3-dev is already the newest version (2.8.1-3).\n",
            "ffmpeg is already the newest version (7:3.4.8-0ubuntu0.2).\n",
            "xvfb is already the newest version (2:1.19.6-1ubuntu4.10).\n",
            "The following package was automatically installed and is no longer required:\n",
            "  libnvidia-common-460\n",
            "Use 'apt autoremove' to remove it.\n",
            "0 upgraded, 0 newly installed, 0 to remove and 45 not upgraded.\n",
            "Looking in indexes: https://pypi.org/simple, https://us-python.pkg.dev/colab-wheels/public/simple/\n",
            "Requirement already satisfied: stable-baselines3[extra] in /usr/local/lib/python3.7/dist-packages (1.5.0)\n",
            "Requirement already satisfied: numpy in /usr/local/lib/python3.7/dist-packages (from stable-baselines3[extra]) (1.21.6)\n",
            "Requirement already satisfied: gym==0.21 in /usr/local/lib/python3.7/dist-packages (from stable-baselines3[extra]) (0.21.0)\n",
            "Requirement already satisfied: matplotlib in /usr/local/lib/python3.7/dist-packages (from stable-baselines3[extra]) (3.2.2)\n",
            "Requirement already satisfied: pandas in /usr/local/lib/python3.7/dist-packages (from stable-baselines3[extra]) (1.3.5)\n",
            "Requirement already satisfied: cloudpickle in /usr/local/lib/python3.7/dist-packages (from stable-baselines3[extra]) (1.3.0)\n",
            "Requirement already satisfied: torch>=1.8.1 in /usr/local/lib/python3.7/dist-packages (from stable-baselines3[extra]) (1.11.0+cu113)\n",
            "Requirement already satisfied: opencv-python in /usr/local/lib/python3.7/dist-packages (from stable-baselines3[extra]) (4.1.2.30)\n",
            "Requirement already satisfied: ale-py~=0.7.4 in /usr/local/lib/python3.7/dist-packages (from stable-baselines3[extra]) (0.7.5)\n",
            "Requirement already satisfied: pillow in /usr/local/lib/python3.7/dist-packages (from stable-baselines3[extra]) (7.1.2)\n",
            "Requirement already satisfied: autorom[accept-rom-license]~=0.4.2 in /usr/local/lib/python3.7/dist-packages (from stable-baselines3[extra]) (0.4.2)\n",
            "Requirement already satisfied: tensorboard>=2.2.0 in /usr/local/lib/python3.7/dist-packages (from stable-baselines3[extra]) (2.8.0)\n",
            "Requirement already satisfied: psutil in /usr/local/lib/python3.7/dist-packages (from stable-baselines3[extra]) (5.4.8)\n",
            "Requirement already satisfied: importlib-metadata>=4.8.1 in /usr/local/lib/python3.7/dist-packages (from gym==0.21->stable-baselines3[extra]) (4.11.4)\n",
            "Requirement already satisfied: importlib-resources in /usr/local/lib/python3.7/dist-packages (from ale-py~=0.7.4->stable-baselines3[extra]) (5.7.1)\n",
            "Requirement already satisfied: tqdm in /usr/local/lib/python3.7/dist-packages (from autorom[accept-rom-license]~=0.4.2->stable-baselines3[extra]) (4.64.0)\n",
            "Requirement already satisfied: click in /usr/local/lib/python3.7/dist-packages (from autorom[accept-rom-license]~=0.4.2->stable-baselines3[extra]) (7.1.2)\n",
            "Requirement already satisfied: requests in /usr/local/lib/python3.7/dist-packages (from autorom[accept-rom-license]~=0.4.2->stable-baselines3[extra]) (2.23.0)\n",
            "Requirement already satisfied: AutoROM.accept-rom-license in /usr/local/lib/python3.7/dist-packages (from autorom[accept-rom-license]~=0.4.2->stable-baselines3[extra]) (0.4.2)\n",
            "Requirement already satisfied: typing-extensions>=3.6.4 in /usr/local/lib/python3.7/dist-packages (from importlib-metadata>=4.8.1->gym==0.21->stable-baselines3[extra]) (4.2.0)\n",
            "Requirement already satisfied: zipp>=0.5 in /usr/local/lib/python3.7/dist-packages (from importlib-metadata>=4.8.1->gym==0.21->stable-baselines3[extra]) (3.8.0)\n",
            "Requirement already satisfied: markdown>=2.6.8 in /usr/local/lib/python3.7/dist-packages (from tensorboard>=2.2.0->stable-baselines3[extra]) (3.3.7)\n",
            "Requirement already satisfied: tensorboard-plugin-wit>=1.6.0 in /usr/local/lib/python3.7/dist-packages (from tensorboard>=2.2.0->stable-baselines3[extra]) (1.8.1)\n",
            "Requirement already satisfied: setuptools>=41.0.0 in /usr/local/lib/python3.7/dist-packages (from tensorboard>=2.2.0->stable-baselines3[extra]) (57.4.0)\n",
            "Requirement already satisfied: grpcio>=1.24.3 in /usr/local/lib/python3.7/dist-packages (from tensorboard>=2.2.0->stable-baselines3[extra]) (1.46.3)\n",
            "Requirement already satisfied: werkzeug>=0.11.15 in /usr/local/lib/python3.7/dist-packages (from tensorboard>=2.2.0->stable-baselines3[extra]) (1.0.1)\n",
            "Requirement already satisfied: protobuf>=3.6.0 in /usr/local/lib/python3.7/dist-packages (from tensorboard>=2.2.0->stable-baselines3[extra]) (3.17.3)\n",
            "Requirement already satisfied: tensorboard-data-server<0.7.0,>=0.6.0 in /usr/local/lib/python3.7/dist-packages (from tensorboard>=2.2.0->stable-baselines3[extra]) (0.6.1)\n",
            "Requirement already satisfied: wheel>=0.26 in /usr/local/lib/python3.7/dist-packages (from tensorboard>=2.2.0->stable-baselines3[extra]) (0.37.1)\n",
            "Requirement already satisfied: absl-py>=0.4 in /usr/local/lib/python3.7/dist-packages (from tensorboard>=2.2.0->stable-baselines3[extra]) (1.0.0)\n",
            "Requirement already satisfied: google-auth-oauthlib<0.5,>=0.4.1 in /usr/local/lib/python3.7/dist-packages (from tensorboard>=2.2.0->stable-baselines3[extra]) (0.4.6)\n",
            "Requirement already satisfied: google-auth<3,>=1.6.3 in /usr/local/lib/python3.7/dist-packages (from tensorboard>=2.2.0->stable-baselines3[extra]) (1.35.0)\n",
            "Requirement already satisfied: six in /usr/local/lib/python3.7/dist-packages (from absl-py>=0.4->tensorboard>=2.2.0->stable-baselines3[extra]) (1.15.0)\n",
            "Requirement already satisfied: rsa<5,>=3.1.4 in /usr/local/lib/python3.7/dist-packages (from google-auth<3,>=1.6.3->tensorboard>=2.2.0->stable-baselines3[extra]) (4.8)\n",
            "Requirement already satisfied: cachetools<5.0,>=2.0.0 in /usr/local/lib/python3.7/dist-packages (from google-auth<3,>=1.6.3->tensorboard>=2.2.0->stable-baselines3[extra]) (4.2.4)\n",
            "Requirement already satisfied: pyasn1-modules>=0.2.1 in /usr/local/lib/python3.7/dist-packages (from google-auth<3,>=1.6.3->tensorboard>=2.2.0->stable-baselines3[extra]) (0.2.8)\n",
            "Requirement already satisfied: requests-oauthlib>=0.7.0 in /usr/local/lib/python3.7/dist-packages (from google-auth-oauthlib<0.5,>=0.4.1->tensorboard>=2.2.0->stable-baselines3[extra]) (1.3.1)\n",
            "Requirement already satisfied: pyasn1<0.5.0,>=0.4.6 in /usr/local/lib/python3.7/dist-packages (from pyasn1-modules>=0.2.1->google-auth<3,>=1.6.3->tensorboard>=2.2.0->stable-baselines3[extra]) (0.4.8)\n",
            "Requirement already satisfied: urllib3!=1.25.0,!=1.25.1,<1.26,>=1.21.1 in /usr/local/lib/python3.7/dist-packages (from requests->autorom[accept-rom-license]~=0.4.2->stable-baselines3[extra]) (1.24.3)\n",
            "Requirement already satisfied: chardet<4,>=3.0.2 in /usr/local/lib/python3.7/dist-packages (from requests->autorom[accept-rom-license]~=0.4.2->stable-baselines3[extra]) (3.0.4)\n",
            "Requirement already satisfied: idna<3,>=2.5 in /usr/local/lib/python3.7/dist-packages (from requests->autorom[accept-rom-license]~=0.4.2->stable-baselines3[extra]) (2.10)\n",
            "Requirement already satisfied: certifi>=2017.4.17 in /usr/local/lib/python3.7/dist-packages (from requests->autorom[accept-rom-license]~=0.4.2->stable-baselines3[extra]) (2022.5.18.1)\n",
            "Requirement already satisfied: oauthlib>=3.0.0 in /usr/local/lib/python3.7/dist-packages (from requests-oauthlib>=0.7.0->google-auth-oauthlib<0.5,>=0.4.1->tensorboard>=2.2.0->stable-baselines3[extra]) (3.2.0)\n",
            "Requirement already satisfied: python-dateutil>=2.1 in /usr/local/lib/python3.7/dist-packages (from matplotlib->stable-baselines3[extra]) (2.8.2)\n",
            "Requirement already satisfied: pyparsing!=2.0.4,!=2.1.2,!=2.1.6,>=2.0.1 in /usr/local/lib/python3.7/dist-packages (from matplotlib->stable-baselines3[extra]) (3.0.9)\n",
            "Requirement already satisfied: kiwisolver>=1.0.1 in /usr/local/lib/python3.7/dist-packages (from matplotlib->stable-baselines3[extra]) (1.4.2)\n",
            "Requirement already satisfied: cycler>=0.10 in /usr/local/lib/python3.7/dist-packages (from matplotlib->stable-baselines3[extra]) (0.11.0)\n",
            "Requirement already satisfied: pytz>=2017.3 in /usr/local/lib/python3.7/dist-packages (from pandas->stable-baselines3[extra]) (2022.1)\n"
          ]
        }
      ]
    },
    {
      "cell_type": "markdown",
      "metadata": {
        "id": "FtY8FhliLsGm"
      },
      "source": [
        "## Imports"
      ]
    },
    {
      "cell_type": "markdown",
      "metadata": {
        "id": "gcX8hEcaUpR0"
      },
      "source": [
        "Stable-Baselines3 gym arayüzünü kullanan ortamlarda çalışır. [gym arayüzü](https://www.gymlibrary.ml/).\n",
        "\n",
        "openai gym ile ilgili kaynak koduna [buradan](https://github.com/openai/gym) erişilebilir."
      ]
    },
    {
      "cell_type": "code",
      "metadata": {
        "id": "BIedd7Pz9sOs"
      },
      "source": [
        "import gym\n",
        "import numpy as np"
      ],
      "execution_count": 18,
      "outputs": []
    },
    {
      "cell_type": "markdown",
      "metadata": {
        "id": "Ae32CtgzTG3R"
      },
      "source": [
        "ilk olarak stable baselines kütüphanesinden kullanacağımız RL algoritmasını içeren modeli import edeceğiz. [stable baseline algoritmaları](https://stable-baselines.readthedocs.io/en/master/)"
      ]
    },
    {
      "cell_type": "code",
      "metadata": {
        "id": "R7tKaBFrTR0a"
      },
      "source": [
        "from stable_baselines3 import PPO"
      ],
      "execution_count": 19,
      "outputs": []
    },
    {
      "cell_type": "markdown",
      "metadata": {
        "id": "-0_8OQbOTTNT"
      },
      "source": [
        "Sonraki import edeceğimiz şey ise ilgili algortima için networkleri oluşturacak olan politika sınıfıdır. "
      ]
    },
    {
      "cell_type": "code",
      "metadata": {
        "id": "ROUJr675TT01"
      },
      "source": [
        "from stable_baselines3.ppo.policies import MlpPolicy"
      ],
      "execution_count": 20,
      "outputs": []
    },
    {
      "cell_type": "markdown",
      "metadata": {
        "id": "RapkYvTXL7Cd"
      },
      "source": [
        "## Gym ortamının ve öznenin (agent) oluşturulması\n",
        "\n",
        "Örnek olarak CartPole (Direk arabası) örneğini kullanacağız. \n",
        "\n",
        "\"Sürtünmesiz bir yol boyunca hareket eden bir arabaya, tahrik edilmeyen bir mafsal tarafından bir kutup bağlanır. Sistem, arabaya +1 (sağ) veya -1 (sol) kuvveti uygulanarak kontrol edilir. Sarkaç dik başlar ve amaç düşmesini önlemektir. Direğin dik kaldığı her zaman adımı için +1 ödül verilir. \"\n",
        "\n",
        "Cartpole ortamı: [https://www.gymlibrary.ml/environments/classic_control/cart_pole/](https://www.gymlibrary.ml/environments/classic_control/cart_pole/)\n",
        "\n",
        "![Cartpole](https://cdn-images-1.medium.com/max/1143/1*h4WTQNVIsvMXJTCpXm_TAw.gif)\n",
        "\n",
        "\n",
        "MlpPolicy'yi seçtik çünkü CartPole görevinin gözlemi görüntüler (resimler) değil bir özellik vektörüdür."
      ]
    },
    {
      "cell_type": "code",
      "metadata": {
        "id": "pUWGZp3i9wyf"
      },
      "source": [
        "env = gym.make('CartPole-v1')\n",
        "\n",
        "model = PPO(MlpPolicy, env, verbose=0)"
      ],
      "execution_count": 21,
      "outputs": []
    },
    {
      "cell_type": "markdown",
      "metadata": {
        "id": "4efFdrQ7MBvl"
      },
      "source": [
        "Aşağıda özneyi (agent) değerlendirmek için bir yardımcı fonksiyon tanımlıyoruz:"
      ]
    },
    {
      "cell_type": "code",
      "metadata": {
        "id": "63M8mSKR-6Zt"
      },
      "source": [
        "def evaluate(model, num_episodes=100):\n",
        "    \"\"\"\n",
        "    Evaluate a RL agent\n",
        "    :param model: (BaseRLModel object) the RL Agent\n",
        "    :param num_episodes: (int) number of episodes to evaluate it\n",
        "    :return: (float) Mean reward for the last num_episodes\n",
        "    \"\"\"\n",
        "    # This function will only work for a single Environment\n",
        "    env = model.get_env()\n",
        "    all_episode_rewards = []\n",
        "    for i in range(num_episodes):\n",
        "        episode_rewards = []\n",
        "        done = False\n",
        "        obs = env.reset()\n",
        "        while not done:\n",
        "            # _states are only useful when using LSTM policies\n",
        "            action, _states = model.predict(obs)\n",
        "            # here, action, rewards and dones are arrays\n",
        "            # because we are using vectorized env\n",
        "            obs, reward, done, info = env.step(action)\n",
        "            episode_rewards.append(reward)\n",
        "\n",
        "        all_episode_rewards.append(sum(episode_rewards))\n",
        "\n",
        "    mean_episode_reward = np.mean(all_episode_rewards)\n",
        "    print(\"Mean reward:\", mean_episode_reward, \"Num episodes:\", num_episodes)\n",
        "\n",
        "    return mean_episode_reward"
      ],
      "execution_count": 22,
      "outputs": []
    },
    {
      "cell_type": "markdown",
      "metadata": {
        "id": "zjEVOIY8NVeK"
      },
      "source": [
        "Şimdi eğitilmemiş özneyi değerlendirelim. "
      ]
    },
    {
      "cell_type": "code",
      "metadata": {
        "id": "xDHLMA6NFk95",
        "outputId": "4562f9e6-aa4f-4426-eac3-ba6082d3b516",
        "colab": {
          "base_uri": "https://localhost:8080/"
        }
      },
      "source": [
        "# Random Agent, before training\n",
        "mean_reward_before_train = evaluate(model, num_episodes=100)"
      ],
      "execution_count": 23,
      "outputs": [
        {
          "output_type": "stream",
          "name": "stdout",
          "text": [
            "Mean reward: 22.39 Num episodes: 100\n"
          ]
        }
      ]
    },
    {
      "cell_type": "markdown",
      "metadata": {
        "id": "QjjPxrwkYJ2i"
      },
      "source": [
        "Aslında Stable-Baselines kütüphanesinde bu değerlendirme işini yapan evaluate_policy fonksiyonu çoktan tanımlanmış. şimdi bu fonksiyonu kullanalım:"
      ]
    },
    {
      "cell_type": "code",
      "metadata": {
        "id": "8z6K9YImYJEx"
      },
      "source": [
        "from stable_baselines3.common.evaluation import evaluate_policy"
      ],
      "execution_count": 24,
      "outputs": []
    },
    {
      "cell_type": "code",
      "metadata": {
        "id": "4oPTHjxyZSOL",
        "colab": {
          "base_uri": "https://localhost:8080/"
        },
        "outputId": "bec196b4-b802-42b1-8c8d-bd3ade41e541"
      },
      "source": [
        "mean_reward, std_reward = evaluate_policy(model, env, n_eval_episodes=100)\n",
        "\n",
        "print(f\"mean_reward:{mean_reward:.2f} +/- {std_reward:.2f}\")"
      ],
      "execution_count": 25,
      "outputs": [
        {
          "output_type": "stream",
          "name": "stderr",
          "text": [
            "/usr/local/lib/python3.7/dist-packages/stable_baselines3/common/evaluation.py:69: UserWarning: Evaluation environment is not wrapped with a ``Monitor`` wrapper. This may result in reporting modified episode lengths and rewards, if other wrappers happen to modify these. Consider wrapping environment first with ``Monitor`` wrapper.\n",
            "  UserWarning,\n"
          ]
        },
        {
          "output_type": "stream",
          "name": "stdout",
          "text": [
            "mean_reward:42.65 +/- 14.06\n"
          ]
        }
      ]
    },
    {
      "cell_type": "markdown",
      "metadata": {
        "id": "r5UoXTZPNdFE"
      },
      "source": [
        "## Özneyi Eğitelim ve Değerlendirelim (Train the agent and evaluate it)"
      ]
    },
    {
      "cell_type": "code",
      "metadata": {
        "id": "e4cfSXIB-pTF",
        "colab": {
          "base_uri": "https://localhost:8080/"
        },
        "outputId": "d7a3bf46-ce1e-477c-c73f-c549c11ec8cc"
      },
      "source": [
        "# Train the agent for 10000 steps\n",
        "model.learn(total_timesteps=10000)"
      ],
      "execution_count": 26,
      "outputs": [
        {
          "output_type": "execute_result",
          "data": {
            "text/plain": [
              "<stable_baselines3.ppo.ppo.PPO at 0x7f76b148d250>"
            ]
          },
          "metadata": {},
          "execution_count": 26
        }
      ]
    },
    {
      "cell_type": "code",
      "metadata": {
        "id": "ygl_gVmV_QP7",
        "colab": {
          "base_uri": "https://localhost:8080/"
        },
        "outputId": "b249d146-baca-4f7d-a7f2-2d158b42e697"
      },
      "source": [
        "# Evaluate the trained agent\n",
        "mean_reward, std_reward = evaluate_policy(model, env, n_eval_episodes=100)\n",
        "\n",
        "print(f\"mean_reward:{mean_reward:.2f} +/- {std_reward:.2f}\")"
      ],
      "execution_count": 27,
      "outputs": [
        {
          "output_type": "stream",
          "name": "stderr",
          "text": [
            "/usr/local/lib/python3.7/dist-packages/stable_baselines3/common/evaluation.py:69: UserWarning: Evaluation environment is not wrapped with a ``Monitor`` wrapper. This may result in reporting modified episode lengths and rewards, if other wrappers happen to modify these. Consider wrapping environment first with ``Monitor`` wrapper.\n",
            "  UserWarning,\n"
          ]
        },
        {
          "output_type": "stream",
          "name": "stdout",
          "text": [
            "mean_reward:371.90 +/- 113.17\n"
          ]
        }
      ]
    },
    {
      "cell_type": "markdown",
      "metadata": {
        "id": "A00W6yY3NkHG"
      },
      "source": [
        "Tabiki eğitim sonrası ortalama ödül (mean reward) artacaktır ! "
      ]
    },
    {
      "cell_type": "markdown",
      "metadata": {
        "id": "xVm9QPNVwKXN"
      },
      "source": [
        "### video kaydının hazırlanması"
      ]
    },
    {
      "cell_type": "code",
      "metadata": {
        "id": "MPyfQxD5z26J"
      },
      "source": [
        "# Set up fake display; otherwise rendering will fail\n",
        "import os\n",
        "os.system(\"Xvfb :1 -screen 0 1024x768x24 &\")\n",
        "os.environ['DISPLAY'] = ':1'"
      ],
      "execution_count": 28,
      "outputs": []
    },
    {
      "cell_type": "code",
      "metadata": {
        "id": "SLzXxO8VMD6N"
      },
      "source": [
        "import base64\n",
        "from pathlib import Path\n",
        "\n",
        "from IPython import display as ipythondisplay\n",
        "\n",
        "def show_videos(video_path='', prefix=''):\n",
        "  \"\"\"\n",
        "  Taken from https://github.com/eleurent/highway-env\n",
        "\n",
        "  :param video_path: (str) Path to the folder containing videos\n",
        "  :param prefix: (str) Filter the video, showing only the only starting with this prefix\n",
        "  \"\"\"\n",
        "  html = []\n",
        "  for mp4 in Path(video_path).glob(\"{}*.mp4\".format(prefix)):\n",
        "      video_b64 = base64.b64encode(mp4.read_bytes())\n",
        "      html.append('''<video alt=\"{}\" autoplay \n",
        "                    loop controls style=\"height: 400px;\">\n",
        "                    <source src=\"data:video/mp4;base64,{}\" type=\"video/mp4\" />\n",
        "                </video>'''.format(mp4, video_b64.decode('ascii')))\n",
        "  ipythondisplay.display(ipythondisplay.HTML(data=\"<br>\".join(html)))"
      ],
      "execution_count": 29,
      "outputs": []
    },
    {
      "cell_type": "markdown",
      "metadata": {
        "id": "LTRNUfulOGaF"
      },
      "source": [
        "[VecVideoRecorder] aracını kullanarak video kaydı yapacağız. (https://stable-baselines3.readthedocs.io/en/master/guide/vec_envs.html#vecvideorecorder)"
      ]
    },
    {
      "cell_type": "code",
      "metadata": {
        "id": "Trag9dQpOIhx"
      },
      "source": [
        "from stable_baselines3.common.vec_env import VecVideoRecorder, DummyVecEnv\n",
        "\n",
        "def record_video(env_id, model, video_length=500, prefix='', video_folder='videos/'):\n",
        "  \"\"\"\n",
        "  :param env_id: (str)\n",
        "  :param model: (RL model)\n",
        "  :param video_length: (int)\n",
        "  :param prefix: (str)\n",
        "  :param video_folder: (str)\n",
        "  \"\"\"\n",
        "  eval_env = DummyVecEnv([lambda: gym.make(env_id)])\n",
        "  # Start the video at step=0 and record 500 steps\n",
        "  eval_env = VecVideoRecorder(eval_env, video_folder=video_folder,\n",
        "                              record_video_trigger=lambda step: step == 0, video_length=video_length,\n",
        "                              name_prefix=prefix)\n",
        "\n",
        "  obs = eval_env.reset()\n",
        "  for _ in range(video_length):\n",
        "    action, _ = model.predict(obs)\n",
        "    obs, _, _, _ = eval_env.step(action)\n",
        "\n",
        "  # Close the video recorder\n",
        "  eval_env.close()"
      ],
      "execution_count": 30,
      "outputs": []
    },
    {
      "cell_type": "markdown",
      "metadata": {
        "id": "KOObbeu5MMlR"
      },
      "source": [
        "### Eğitilen öznenin görselleştirilmesi ve video gösterimi"
      ]
    },
    {
      "cell_type": "code",
      "metadata": {
        "id": "iATu7AiyMQW2",
        "outputId": "1fb11fc1-574e-4083-df21-375ac259e966",
        "colab": {
          "base_uri": "https://localhost:8080/"
        }
      },
      "source": [
        "record_video('CartPole-v1', model, video_length=500, prefix='ppo2-cartpole')"
      ],
      "execution_count": 31,
      "outputs": [
        {
          "output_type": "stream",
          "name": "stdout",
          "text": [
            "Saving video to /content/videos/ppo2-cartpole-step-0-to-step-500.mp4\n"
          ]
        }
      ]
    },
    {
      "cell_type": "code",
      "metadata": {
        "id": "-n4i-fW3NojZ",
        "colab": {
          "base_uri": "https://localhost:8080/",
          "height": 421
        },
        "outputId": "aa1c22d5-0352-4b97-f901-25b533f6df9a"
      },
      "source": [
        "show_videos('videos', prefix='ppo2')"
      ],
      "execution_count": 32,
      "outputs": [
        {
          "output_type": "display_data",
          "data": {
            "text/plain": [
              "<IPython.core.display.HTML object>"
            ],
            "text/html": [
              "<video alt=\"videos/ppo2-cartpole-step-0-to-step-500.mp4\" autoplay \n",
              "                    loop controls style=\"height: 400px;\">\n",
              "                    <source src=\"data:video/mp4;base64,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\" type=\"video/mp4\" />\n",
              "                </video>"
            ]
          },
          "metadata": {}
        }
      ]
    }
  ]
}